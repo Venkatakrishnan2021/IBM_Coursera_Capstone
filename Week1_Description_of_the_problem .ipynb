{
    "cells": [
        {
            "metadata": {
                "collapsed": true
            },
            "cell_type": "markdown",
            "source": "### Coursera Capstone - REPORT CONTENT\n\n1.\tIntroduction Section : \n\t\n2.\tProblem Which Tried to Solve:  \n\t\n3.\tThe Location \n\t\n4.\tFoursquare API: \n\t\n5.\tWork Flow \n\t\n6.\tClustering Approach \n\n7.\tLibraries Which are Used to Develope the Project "
        },
        {
            "metadata": {},
            "cell_type": "markdown",
            "source": "# 1.\tIntroduction Section : \n### Discussion of the business problem and the audience who would be interested in this project.\n\nThe purpose of this Project is to help people in exploring better facilities around their neighborhood. \n\nIt will help people making smart and efficient decision on selecting great neighborhood out of numbers of other neighborhoods in Adyar, Chennai, India.\n\nChennai is continuous growing city, and its traditional city having lot of Vegan and Vegetarians .\n\nThis will help to find out Vegetarian Restaurant.  "
        },
        {
            "metadata": {},
            "cell_type": "markdown",
            "source": "# 2.\tProblem Which Tried to Solve : \nThe major purpose of this project, is to suggest a better neighborhood in a new city for the person who are travelling / shiffting there. "
        },
        {
            "metadata": {},
            "cell_type": "markdown",
            "source": "# 3.\tThe Location: \nChennai is a popular destination for domestic job seekers. It is one of the most diverse and multicultural, being home to various religious groups and places of worship.\n"
        },
        {
            "metadata": {},
            "cell_type": "markdown",
            "source": "# 4.\tFoursquare API: \nThis project would use Four-square API as its prime data gathering source as \n\nit has a database of millions of places, especially their places API which provides the ability to perform location search, \n\nlocation sharing and details about a business."
        },
        {
            "metadata": {},
            "cell_type": "markdown",
            "source": "# 5.\tWork Flow: \nUsing credentials of Foursquare API features of near-by places of the neighborhoods would be mined. \n\nDue to http request limitations the number of places per neighborhood parameter would reasonably be \n\nset to 100 and the radius parameter would be set to 500."
        },
        {
            "metadata": {},
            "cell_type": "markdown",
            "source": "# 6.\tClustering Approach: \nTo compare the similarities of two cities, we decided to explore neighborhoods, \n\nsegment them, and group them into clusters to find similar neighborhoods in a big \n\ncity like Mumabi and Chennai. To be able to do that, we need to cluster data \n\nwhich is a form of unsupervised machine learning: k-means clustering algorithm"
        },
        {
            "metadata": {},
            "cell_type": "markdown",
            "source": "# 7.\tLibraries Which are Used to Develope the Project: \nPandas: For creating and manipulating dataframes.\n\nFolium: Python visualization library would be used to visualize the neighborhoods cluster distribution of using interactive leaflet map.\n\nScikit Learn: For importing k-means clustering.\n\nJSON: Library to handle JSON files.\n\nXML: To separate data from presentation and XML stores data in plain text format.\n\nGeocoder: To retrieve Location Data.\n\nBeautiful Soup and Requests: To scrap\n"
        },
        {
            "metadata": {},
            "cell_type": "code",
            "source": "",
            "execution_count": null,
            "outputs": []
        }
    ],
    "metadata": {
        "kernelspec": {
            "name": "python3",
            "display_name": "Python 3.7",
            "language": "python"
        },
        "language_info": {
            "name": "python",
            "version": "3.7.10",
            "mimetype": "text/x-python",
            "codemirror_mode": {
                "name": "ipython",
                "version": 3
            },
            "pygments_lexer": "ipython3",
            "nbconvert_exporter": "python",
            "file_extension": ".py"
        }
    },
    "nbformat": 4,
    "nbformat_minor": 1
}