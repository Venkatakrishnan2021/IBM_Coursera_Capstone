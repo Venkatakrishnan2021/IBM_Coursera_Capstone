{
    "cells": [
        {
            "metadata": {},
            "cell_type": "code",
            "source": "import sys\n!{sys.executable} -m pip install geocoder\n!{sys.executable} -m pip install folium\nprint('Package Installation Over')",
            "execution_count": 8,
            "outputs": [
                {
                    "output_type": "stream",
                    "text": "Requirement already satisfied: geocoder in /opt/conda/envs/Python-3.7-main/lib/python3.7/site-packages (1.38.1)\nRequirement already satisfied: requests in /opt/conda/envs/Python-3.7-main/lib/python3.7/site-packages (from geocoder) (2.24.0)\nRequirement already satisfied: six in /opt/conda/envs/Python-3.7-main/lib/python3.7/site-packages (from geocoder) (1.15.0)\nRequirement already satisfied: ratelim in /opt/conda/envs/Python-3.7-main/lib/python3.7/site-packages (from geocoder) (0.1.6)\nRequirement already satisfied: click in /opt/conda/envs/Python-3.7-main/lib/python3.7/site-packages (from geocoder) (7.1.2)\nRequirement already satisfied: future in /opt/conda/envs/Python-3.7-main/lib/python3.7/site-packages (from geocoder) (0.18.2)\nRequirement already satisfied: idna<3,>=2.5 in /opt/conda/envs/Python-3.7-main/lib/python3.7/site-packages (from requests->geocoder) (2.9)\nRequirement already satisfied: certifi>=2017.4.17 in /opt/conda/envs/Python-3.7-main/lib/python3.7/site-packages (from requests->geocoder) (2020.12.5)\nRequirement already satisfied: chardet<4,>=3.0.2 in /opt/conda/envs/Python-3.7-main/lib/python3.7/site-packages (from requests->geocoder) (3.0.4)\nRequirement already satisfied: urllib3!=1.25.0,!=1.25.1,<1.26,>=1.21.1 in /opt/conda/envs/Python-3.7-main/lib/python3.7/site-packages (from requests->geocoder) (1.25.9)\nRequirement already satisfied: decorator in /opt/conda/envs/Python-3.7-main/lib/python3.7/site-packages (from ratelim->geocoder) (4.4.2)\nRequirement already satisfied: folium in /opt/conda/envs/Python-3.7-main/lib/python3.7/site-packages (0.12.1)\nRequirement already satisfied: jinja2>=2.9 in /opt/conda/envs/Python-3.7-main/lib/python3.7/site-packages (from folium) (2.11.2)\nRequirement already satisfied: requests in /opt/conda/envs/Python-3.7-main/lib/python3.7/site-packages (from folium) (2.24.0)\nRequirement already satisfied: numpy in /opt/conda/envs/Python-3.7-main/lib/python3.7/site-packages (from folium) (1.18.5)\nRequirement already satisfied: branca>=0.3.0 in /opt/conda/envs/Python-3.7-main/lib/python3.7/site-packages (from folium) (0.4.2)\nRequirement already satisfied: MarkupSafe>=0.23 in /opt/conda/envs/Python-3.7-main/lib/python3.7/site-packages (from jinja2>=2.9->folium) (1.1.1)\nRequirement already satisfied: urllib3!=1.25.0,!=1.25.1,<1.26,>=1.21.1 in /opt/conda/envs/Python-3.7-main/lib/python3.7/site-packages (from requests->folium) (1.25.9)\nRequirement already satisfied: chardet<4,>=3.0.2 in /opt/conda/envs/Python-3.7-main/lib/python3.7/site-packages (from requests->folium) (3.0.4)\nRequirement already satisfied: certifi>=2017.4.17 in /opt/conda/envs/Python-3.7-main/lib/python3.7/site-packages (from requests->folium) (2020.12.5)\nRequirement already satisfied: idna<3,>=2.5 in /opt/conda/envs/Python-3.7-main/lib/python3.7/site-packages (from requests->folium) (2.9)\nPackage Installation Over\n",
                    "name": "stdout"
                }
            ]
        },
        {
            "metadata": {},
            "cell_type": "code",
            "source": "pip install BeautifulSoup4",
            "execution_count": 9,
            "outputs": [
                {
                    "output_type": "stream",
                    "text": "Requirement already satisfied: BeautifulSoup4 in /opt/conda/envs/Python-3.7-main/lib/python3.7/site-packages (4.9.1)\nRequirement already satisfied: soupsieve>1.2 in /opt/conda/envs/Python-3.7-main/lib/python3.7/site-packages (from BeautifulSoup4) (2.0.1)\nNote: you may need to restart the kernel to use updated packages.\n",
                    "name": "stdout"
                }
            ]
        },
        {
            "metadata": {},
            "cell_type": "code",
            "source": "import pandas as pd # library for data analsysis\nimport geocoder # import geocoder\nimport requests \nfrom bs4 import BeautifulSoup \n\n# Matplotlib and associated plotting modules\nimport matplotlib.cm as cm\nimport matplotlib.colors as colors\n\n# import k-means from clustering stage\nfrom sklearn.cluster import KMeans\n\n#!conda install -c conda-forge folium=0.5.0 --yes # uncomment this line if you haven't completed the Foursquare API lab\nimport folium # map rendering library\n\nprint('Pakage Import Completed..')",
            "execution_count": 2,
            "outputs": [
                {
                    "output_type": "stream",
                    "text": "Pakage Import Completed..\n",
                    "name": "stdout"
                }
            ]
        },
        {
            "metadata": {},
            "cell_type": "code",
            "source": "print('Page ')\n#URL = \"https://www.wikizeroo.org/index.php?q=aHR0cHM6Ly9lbi53aWtpcGVkaWEub3JnL3dpa2kvTGlzdF9vZl9wb3N0YWxfY29kZXNfb2ZfQ2FuYWRhOl9N\"\nURL = \"https://en.wikipedia.org/wiki/List_of_postal_codes_of_Canada:_M\"\nr = requests.get(URL) \n  \nsoup = BeautifulSoup(r.content, 'html5lib') \ntable = soup.find('div', attrs = {'id':'container'}) \n\n# print(soup.prettify()) \nprint('Page Scrapped.')\n",
            "execution_count": 3,
            "outputs": [
                {
                    "output_type": "stream",
                    "text": "Page \nPage Scrapped.\n",
                    "name": "stdout"
                }
            ]
        },
        {
            "metadata": {},
            "cell_type": "code",
            "source": "postalCodes = [];\nboroughs= [];\nneighborhoods = [];\ncolumnNum = 1;\npassVal = False\n\nfor row in soup.find_all('td'):\n    for cell in row:\n        if cell.string and cell.string[0].isalpha() and len(cell.string) > 2:\n            passVal = False\n            if columnNum == 1:\n                if passVal == False and cell.string[1].isdigit():\n                    postalCodes.append(cell.string);   \n                    columnNum = 2\n                else:\n                    continue\n            elif columnNum == 2 :\n                if cell.string == 'Not assigned\\n':\n                    passVal = True\n                    del postalCodes[-1]\n                    columnNum = 1\n                    continue\n                else:\n                    boroughs.append(cell.string);      \n                    columnNum = 3\n            elif columnNum == 3 :\n                if cell.string == 'Not assigned\\n':\n                    neighborhoods.append(boroughs[-1])                    \n                else:\n                    neighborhoods.append(cell.string); \n                columnNum = 1\n\n\nprint('Data Collection is Over')\n\n",
            "execution_count": 13,
            "outputs": [
                {
                    "output_type": "stream",
                    "text": "Data Collection is Over\n",
                    "name": "stdout"
                }
            ]
        },
        {
            "metadata": {},
            "cell_type": "code",
            "source": "column_names = ['PostalCode', 'Borough', 'Neighborhood', 'Latitude', 'Longitude'] \nneighbors = pd.DataFrame(columns=column_names)\nneighbors\n#neighbors.shape",
            "execution_count": 14,
            "outputs": [
                {
                    "output_type": "execute_result",
                    "execution_count": 14,
                    "data": {
                        "text/plain": "Empty DataFrame\nColumns: [PostalCode, Borough, Neighborhood, Latitude, Longitude]\nIndex: []",
                        "text/html": "<div>\n<style scoped>\n    .dataframe tbody tr th:only-of-type {\n        vertical-align: middle;\n    }\n\n    .dataframe tbody tr th {\n        vertical-align: top;\n    }\n\n    .dataframe thead th {\n        text-align: right;\n    }\n</style>\n<table border=\"1\" class=\"dataframe\">\n  <thead>\n    <tr style=\"text-align: right;\">\n      <th></th>\n      <th>PostalCode</th>\n      <th>Borough</th>\n      <th>Neighborhood</th>\n      <th>Latitude</th>\n      <th>Longitude</th>\n    </tr>\n  </thead>\n  <tbody>\n  </tbody>\n</table>\n</div>"
                    },
                    "metadata": {}
                }
            ]
        },
        {
            "metadata": {},
            "cell_type": "code",
            "source": "# initialize your variable to None\nlat_lng_coords = None\n\nfor data in range(0, len(postalCodes)-1):\n    code = postalCodes[data]\n    borough = boroughs[data]\n    neighborhood_name = neighborhoods[data]\n    \n    g = geocoder.arcgis('{}, Toronto, Ontario'.format(code))\n    lat_lng_coords = g.latlng\n\n    neighbors = neighbors.append({ 'PostalCode': code,\n                                   'Borough': borough,\n                                   'Neighborhood': neighborhood_name,\n                                   'Latitude': lat_lng_coords[0],\n                                   'Longitude': lat_lng_coords[1]}, ignore_index=True)\n    \nneighbors",
            "execution_count": 15,
            "outputs": [
                {
                    "output_type": "execute_result",
                    "execution_count": 15,
                    "data": {
                        "text/plain": "    PostalCode             Borough  \\\n0        M3A\\n        North York\\n   \n1        M4A\\n        North York\\n   \n2        M5A\\n  Downtown Toronto\\n   \n3        M6A\\n        North York\\n   \n4        M7A\\n  Downtown Toronto\\n   \n..         ...                 ...   \n97       M5X\\n  Downtown Toronto\\n   \n98       M8X\\n         Etobicoke\\n   \n99       M4Y\\n  Downtown Toronto\\n   \n100      M7Y\\n      East Toronto\\n   \n101      M8Y\\n         Etobicoke\\n   \n\n                                          Neighborhood  Latitude  Longitude  \n0                                          Parkwoods\\n  43.75245  -79.32991  \n1                                   Victoria Village\\n  43.73057  -79.31306  \n2                          Regent Park, Harbourfront\\n  43.65512  -79.36264  \n3                   Lawrence Manor, Lawrence Heights\\n  43.72327  -79.45042  \n4        Queen's Park, Ontario Provincial Government\\n  43.66253  -79.39188  \n..                                                 ...       ...        ...  \n97            First Canadian Place, Underground city\\n  43.64828  -79.38146  \n98     The Kingsway, Montgomery Road, Old Mill North\\n  43.65319  -79.51113  \n99                              Church and Wellesley\\n  43.66659  -79.38133  \n100  Business reply mail Processing Centre, South C...  43.64869  -79.38544  \n101  Old Mill South, King's Mill Park, Sunnylea, Hu...  43.63278  -79.48945  \n\n[102 rows x 5 columns]",
                        "text/html": "<div>\n<style scoped>\n    .dataframe tbody tr th:only-of-type {\n        vertical-align: middle;\n    }\n\n    .dataframe tbody tr th {\n        vertical-align: top;\n    }\n\n    .dataframe thead th {\n        text-align: right;\n    }\n</style>\n<table border=\"1\" class=\"dataframe\">\n  <thead>\n    <tr style=\"text-align: right;\">\n      <th></th>\n      <th>PostalCode</th>\n      <th>Borough</th>\n      <th>Neighborhood</th>\n      <th>Latitude</th>\n      <th>Longitude</th>\n    </tr>\n  </thead>\n  <tbody>\n    <tr>\n      <th>0</th>\n      <td>M3A\\n</td>\n      <td>North York\\n</td>\n      <td>Parkwoods\\n</td>\n      <td>43.75245</td>\n      <td>-79.32991</td>\n    </tr>\n    <tr>\n      <th>1</th>\n      <td>M4A\\n</td>\n      <td>North York\\n</td>\n      <td>Victoria Village\\n</td>\n      <td>43.73057</td>\n      <td>-79.31306</td>\n    </tr>\n    <tr>\n      <th>2</th>\n      <td>M5A\\n</td>\n      <td>Downtown Toronto\\n</td>\n      <td>Regent Park, Harbourfront\\n</td>\n      <td>43.65512</td>\n      <td>-79.36264</td>\n    </tr>\n    <tr>\n      <th>3</th>\n      <td>M6A\\n</td>\n      <td>North York\\n</td>\n      <td>Lawrence Manor, Lawrence Heights\\n</td>\n      <td>43.72327</td>\n      <td>-79.45042</td>\n    </tr>\n    <tr>\n      <th>4</th>\n      <td>M7A\\n</td>\n      <td>Downtown Toronto\\n</td>\n      <td>Queen's Park, Ontario Provincial Government\\n</td>\n      <td>43.66253</td>\n      <td>-79.39188</td>\n    </tr>\n    <tr>\n      <th>...</th>\n      <td>...</td>\n      <td>...</td>\n      <td>...</td>\n      <td>...</td>\n      <td>...</td>\n    </tr>\n    <tr>\n      <th>97</th>\n      <td>M5X\\n</td>\n      <td>Downtown Toronto\\n</td>\n      <td>First Canadian Place, Underground city\\n</td>\n      <td>43.64828</td>\n      <td>-79.38146</td>\n    </tr>\n    <tr>\n      <th>98</th>\n      <td>M8X\\n</td>\n      <td>Etobicoke\\n</td>\n      <td>The Kingsway, Montgomery Road, Old Mill North\\n</td>\n      <td>43.65319</td>\n      <td>-79.51113</td>\n    </tr>\n    <tr>\n      <th>99</th>\n      <td>M4Y\\n</td>\n      <td>Downtown Toronto\\n</td>\n      <td>Church and Wellesley\\n</td>\n      <td>43.66659</td>\n      <td>-79.38133</td>\n    </tr>\n    <tr>\n      <th>100</th>\n      <td>M7Y\\n</td>\n      <td>East Toronto\\n</td>\n      <td>Business reply mail Processing Centre, South C...</td>\n      <td>43.64869</td>\n      <td>-79.38544</td>\n    </tr>\n    <tr>\n      <th>101</th>\n      <td>M8Y\\n</td>\n      <td>Etobicoke\\n</td>\n      <td>Old Mill South, King's Mill Park, Sunnylea, Hu...</td>\n      <td>43.63278</td>\n      <td>-79.48945</td>\n    </tr>\n  </tbody>\n</table>\n<p>102 rows \u00d7 5 columns</p>\n</div>"
                    },
                    "metadata": {}
                }
            ]
        },
        {
            "metadata": {},
            "cell_type": "code",
            "source": "neighbors.shape",
            "execution_count": 16,
            "outputs": [
                {
                    "output_type": "execute_result",
                    "execution_count": 16,
                    "data": {
                        "text/plain": "(102, 5)"
                    },
                    "metadata": {}
                }
            ]
        },
        {
            "metadata": {},
            "cell_type": "code",
            "source": "VERSION = '20180605' # Foursquare API version\n\nneighborhood_name = neighbors.loc[0, 'Neighborhood'] # neighborhood name\nneighborhood_latitude = neighbors.loc[0, 'Latitude'] # neighborhood latitude value\nneighborhood_longitude = neighbors.loc[0, 'Longitude'] # neighborhood longitude value\n\nprint('Latitude and longitude values of {} are {}, {}.'.format(neighborhood_name, \n                                                               neighborhood_latitude, \n                                                               neighborhood_longitude))\n\nradius = 500 # define radius\nLIMIT = 100 # limit of number of venues returned by Foursquare API\n\n# url = 'https://api.foursquare.com/v2/venues/explore?&client_id={}&client_secret={}&v={}&ll={},{}&radius={}&limit={}'.format(\n#     CLIENT_ID, \n#     CLIENT_SECRET, \n#     VERSION, \n#     43.67635739999999, \n#     79.2930312, \n#     radius, \n#     LIMIT)\n\nurl = 'https://api.foursquare.com/v2/venues/explore?&client_id=ZWLCLXKRKKBH1AXN2EMN0TLRRVCPDINO1CYW4AVA5VUFANK3&client_secret=2OKBDY3EH23YLKNIS1UEDB4BHBGBLB2SP4EPOABWQ0LCJF5X&v=20180605&ll=43.67635739999999,-79.2930312&radius=500&limit=100'\n\nresults = requests.get(url).json()\nresults",
            "execution_count": 17,
            "outputs": [
                {
                    "output_type": "stream",
                    "text": "Latitude and longitude values of Parkwoods\n are 43.75245000000007, -79.32990999999998.\n",
                    "name": "stdout"
                },
                {
                    "output_type": "execute_result",
                    "execution_count": 17,
                    "data": {
                        "text/plain": "{'meta': {'code': 200, 'requestId': '6034ea734c834a469ebe9f25'},\n 'response': {'headerLocation': 'The Beaches',\n  'headerFullLocation': 'The Beaches, Toronto',\n  'headerLocationGranularity': 'neighborhood',\n  'totalResults': 5,\n  'suggestedBounds': {'ne': {'lat': 43.680857404499996,\n    'lng': -79.28682091449052},\n   'sw': {'lat': 43.67185739549999, 'lng': -79.29924148550948}},\n  'groups': [{'type': 'Recommended Places',\n    'name': 'recommended',\n    'items': [{'reasons': {'count': 0,\n       'items': [{'summary': 'This spot is popular',\n         'type': 'general',\n         'reasonName': 'globalInteractionReason'}]},\n      'venue': {'id': '4bd461bc77b29c74a07d9282',\n       'name': 'Glen Manor Ravine',\n       'location': {'address': 'Glen Manor',\n        'crossStreet': 'Queen St.',\n        'lat': 43.67682094413784,\n        'lng': -79.29394208780985,\n        'labeledLatLngs': [{'label': 'display',\n          'lat': 43.67682094413784,\n          'lng': -79.29394208780985}],\n        'distance': 89,\n        'cc': 'CA',\n        'city': 'Toronto',\n        'state': 'ON',\n        'country': 'Canada',\n        'formattedAddress': ['Glen Manor (Queen St.)',\n         'Toronto ON',\n         'Canada']},\n       'categories': [{'id': '4bf58dd8d48988d159941735',\n         'name': 'Trail',\n         'pluralName': 'Trails',\n         'shortName': 'Trail',\n         'icon': {'prefix': 'https://ss3.4sqi.net/img/categories_v2/parks_outdoors/hikingtrail_',\n          'suffix': '.png'},\n         'primary': True}],\n       'photos': {'count': 0, 'groups': []}},\n      'referralId': 'e-0-4bd461bc77b29c74a07d9282-0'},\n     {'reasons': {'count': 0,\n       'items': [{'summary': 'This spot is popular',\n         'type': 'general',\n         'reasonName': 'globalInteractionReason'}]},\n      'venue': {'id': '4ad4c062f964a52011f820e3',\n       'name': 'The Big Carrot Natural Food Market',\n       'location': {'address': '125 Southwood Dr',\n        'lat': 43.678879,\n        'lng': -79.297734,\n        'labeledLatLngs': [{'label': 'display',\n          'lat': 43.678879,\n          'lng': -79.297734}],\n        'distance': 471,\n        'postalCode': 'M4E 0B8',\n        'cc': 'CA',\n        'city': 'Toronto',\n        'state': 'ON',\n        'country': 'Canada',\n        'formattedAddress': ['125 Southwood Dr',\n         'Toronto ON M4E 0B8',\n         'Canada']},\n       'categories': [{'id': '50aa9e744b90af0d42d5de0e',\n         'name': 'Health Food Store',\n         'pluralName': 'Health Food Stores',\n         'shortName': 'Health Food Store',\n         'icon': {'prefix': 'https://ss3.4sqi.net/img/categories_v2/shops/food_grocery_',\n          'suffix': '.png'},\n         'primary': True}],\n       'photos': {'count': 0, 'groups': []},\n       'venuePage': {'id': '75150878'}},\n      'referralId': 'e-0-4ad4c062f964a52011f820e3-1'},\n     {'reasons': {'count': 0,\n       'items': [{'summary': 'This spot is popular',\n         'type': 'general',\n         'reasonName': 'globalInteractionReason'}]},\n      'venue': {'id': '4b8daea1f964a520480833e3',\n       'name': 'Grover Pub and Grub',\n       'location': {'address': '676 Kingston Rd.',\n        'crossStreet': 'at Main St.',\n        'lat': 43.679181434941015,\n        'lng': -79.29721535878515,\n        'labeledLatLngs': [{'label': 'display',\n          'lat': 43.679181434941015,\n          'lng': -79.29721535878515}],\n        'distance': 460,\n        'postalCode': 'M4E 1R4',\n        'cc': 'CA',\n        'city': 'Toronto',\n        'state': 'ON',\n        'country': 'Canada',\n        'formattedAddress': ['676 Kingston Rd. (at Main St.)',\n         'Toronto ON M4E 1R4',\n         'Canada']},\n       'categories': [{'id': '4bf58dd8d48988d11b941735',\n         'name': 'Pub',\n         'pluralName': 'Pubs',\n         'shortName': 'Pub',\n         'icon': {'prefix': 'https://ss3.4sqi.net/img/categories_v2/nightlife/pub_',\n          'suffix': '.png'},\n         'primary': True}],\n       'photos': {'count': 0, 'groups': []}},\n      'referralId': 'e-0-4b8daea1f964a520480833e3-2'},\n     {'reasons': {'count': 0,\n       'items': [{'summary': 'This spot is popular',\n         'type': 'general',\n         'reasonName': 'globalInteractionReason'}]},\n      'venue': {'id': '4df91c4bae60f95f82229ad5',\n       'name': 'Upper Beaches',\n       'location': {'lat': 43.68056321147582,\n        'lng': -79.2928688743688,\n        'labeledLatLngs': [{'label': 'display',\n          'lat': 43.68056321147582,\n          'lng': -79.2928688743688}],\n        'distance': 468,\n        'cc': 'CA',\n        'city': 'Toronto',\n        'state': 'ON',\n        'country': 'Canada',\n        'formattedAddress': ['Toronto ON', 'Canada']},\n       'categories': [{'id': '4f2a25ac4b909258e854f55f',\n         'name': 'Neighborhood',\n         'pluralName': 'Neighborhoods',\n         'shortName': 'Neighborhood',\n         'icon': {'prefix': 'https://ss3.4sqi.net/img/categories_v2/parks_outdoors/neighborhood_',\n          'suffix': '.png'},\n         'primary': True}],\n       'photos': {'count': 0, 'groups': []}},\n      'referralId': 'e-0-4df91c4bae60f95f82229ad5-3'},\n     {'reasons': {'count': 0,\n       'items': [{'summary': 'This spot is popular',\n         'type': 'general',\n         'reasonName': 'globalInteractionReason'}]},\n      'venue': {'id': '4dbc53541e72b351caafda72',\n       'name': 'Seaspray Restaurant',\n       'location': {'address': '629 Kingston Rd',\n        'crossStreet': 'at Main St',\n        'lat': 43.678887885937094,\n        'lng': -79.29816674246032,\n        'labeledLatLngs': [{'label': 'display',\n          'lat': 43.678887885937094,\n          'lng': -79.29816674246032}],\n        'distance': 500,\n        'cc': 'CA',\n        'city': 'Toronto',\n        'state': 'ON',\n        'country': 'Canada',\n        'formattedAddress': ['629 Kingston Rd (at Main St)',\n         'Toronto ON',\n         'Canada']},\n       'categories': [{'id': '4bf58dd8d48988d142941735',\n         'name': 'Asian Restaurant',\n         'pluralName': 'Asian Restaurants',\n         'shortName': 'Asian',\n         'icon': {'prefix': 'https://ss3.4sqi.net/img/categories_v2/food/asian_',\n          'suffix': '.png'},\n         'primary': True}],\n       'photos': {'count': 0, 'groups': []}},\n      'referralId': 'e-0-4dbc53541e72b351caafda72-4'}]}]}}"
                    },
                    "metadata": {}
                }
            ]
        },
        {
            "metadata": {},
            "cell_type": "code",
            "source": "def get_category_type(row):\n    try:\n        categories_list = row['categories']\n    except:\n        categories_list = row['venue.categories']\n        \n    if len(categories_list) == 0:\n        return None\n    else:\n        return categories_list[0]['name']",
            "execution_count": 18,
            "outputs": []
        },
        {
            "metadata": {},
            "cell_type": "code",
            "source": "\nfrom pandas.io.json import json_normalize\n\nvenues = results['response']['groups'][0]['items']\n    \nnearby_venues = json_normalize(venues) # flatten JSON\n\n# filter columns\nfiltered_columns = ['venue.name', 'venue.categories', 'venue.location.lat', 'venue.location.lng']\nnearby_venues =nearby_venues.loc[:, filtered_columns]\n\n# filter the category for each row\nnearby_venues['venue.categories'] = nearby_venues.apply(get_category_type, axis=1)\n\n# clean columns\nnearby_venues.columns = [col.split(\".\")[-1] for col in nearby_venues.columns]\n\nnearby_venues.head()",
            "execution_count": 19,
            "outputs": [
                {
                    "output_type": "stream",
                    "text": "/opt/conda/envs/Python-3.7-main/lib/python3.7/site-packages/ipykernel/__main__.py:5: FutureWarning: pandas.io.json.json_normalize is deprecated, use pandas.json_normalize instead\n",
                    "name": "stderr"
                },
                {
                    "output_type": "execute_result",
                    "execution_count": 19,
                    "data": {
                        "text/plain": "                                 name         categories        lat        lng\n0                   Glen Manor Ravine              Trail  43.676821 -79.293942\n1  The Big Carrot Natural Food Market  Health Food Store  43.678879 -79.297734\n2                 Grover Pub and Grub                Pub  43.679181 -79.297215\n3                       Upper Beaches       Neighborhood  43.680563 -79.292869\n4                 Seaspray Restaurant   Asian Restaurant  43.678888 -79.298167",
                        "text/html": "<div>\n<style scoped>\n    .dataframe tbody tr th:only-of-type {\n        vertical-align: middle;\n    }\n\n    .dataframe tbody tr th {\n        vertical-align: top;\n    }\n\n    .dataframe thead th {\n        text-align: right;\n    }\n</style>\n<table border=\"1\" class=\"dataframe\">\n  <thead>\n    <tr style=\"text-align: right;\">\n      <th></th>\n      <th>name</th>\n      <th>categories</th>\n      <th>lat</th>\n      <th>lng</th>\n    </tr>\n  </thead>\n  <tbody>\n    <tr>\n      <th>0</th>\n      <td>Glen Manor Ravine</td>\n      <td>Trail</td>\n      <td>43.676821</td>\n      <td>-79.293942</td>\n    </tr>\n    <tr>\n      <th>1</th>\n      <td>The Big Carrot Natural Food Market</td>\n      <td>Health Food Store</td>\n      <td>43.678879</td>\n      <td>-79.297734</td>\n    </tr>\n    <tr>\n      <th>2</th>\n      <td>Grover Pub and Grub</td>\n      <td>Pub</td>\n      <td>43.679181</td>\n      <td>-79.297215</td>\n    </tr>\n    <tr>\n      <th>3</th>\n      <td>Upper Beaches</td>\n      <td>Neighborhood</td>\n      <td>43.680563</td>\n      <td>-79.292869</td>\n    </tr>\n    <tr>\n      <th>4</th>\n      <td>Seaspray Restaurant</td>\n      <td>Asian Restaurant</td>\n      <td>43.678888</td>\n      <td>-79.298167</td>\n    </tr>\n  </tbody>\n</table>\n</div>"
                    },
                    "metadata": {}
                }
            ]
        },
        {
            "metadata": {},
            "cell_type": "code",
            "source": "print('{} venues were returned by Foursquare.'.format(nearby_venues.shape[0]))",
            "execution_count": 20,
            "outputs": [
                {
                    "output_type": "stream",
                    "text": "5 venues were returned by Foursquare.\n",
                    "name": "stdout"
                }
            ]
        },
        {
            "metadata": {},
            "cell_type": "code",
            "source": "def getNearbyVenues(names, latitudes, longitudes):\n    \n    venues_list=[]\n    for name, lat, lng in zip(names, latitudes, longitudes):\n        print(name)\n\n\n        # make the GET request\n        results = requests.get(url).json()[\"response\"]['groups'][0]['items']\n        \n        # return only relevant information for each nearby venue\n        venues_list.append([(\n            name, \n            lat, \n            lng, \n            v['venue']['name'], \n            v['venue']['location']['lat'], \n            v['venue']['location']['lng'],  \n            v['venue']['categories'][0]['name']) for v in results])\n\n    nearby_venues = pd.DataFrame([item for venue_list in venues_list for item in venue_list])\n    nearby_venues.columns = ['Neighborhood', \n                  'Neighborhood Latitude', \n                  'Neighborhood Longitude', \n                  'Venue', \n                  'Venue Latitude', \n                  'Venue Longitude', \n                  'Venue Category']\n    \n    return(nearby_venues)",
            "execution_count": 21,
            "outputs": []
        },
        {
            "metadata": {},
            "cell_type": "code",
            "source": "toronto_venues = getNearbyVenues(names=neighborhoods,\n                                 latitudes=neighbors['Latitude'],\n                                 longitudes=neighbors['Longitude'])",
            "execution_count": 22,
            "outputs": [
                {
                    "output_type": "stream",
                    "text": "Parkwoods\n\nVictoria Village\n\nRegent Park, Harbourfront\n\nLawrence Manor, Lawrence Heights\n\nQueen's Park, Ontario Provincial Government\n\nIslington Avenue, Humber Valley Village\n\nMalvern, Rouge\n\nDon Mills\n\nParkview Hill, Woodbine Gardens\n\nGarden District, Ryerson\n\nGlencairn\n\nWest Deane Park, Princess Gardens, Martin Grove, Islington, Cloverdale\n\nRouge Hill, Port Union, Highland Creek\n\nDon Mills\n\nWoodbine Heights\n\nSt. James Town\n\nHumewood-Cedarvale\n\nEringate, Bloordale Gardens, Old Burnhamthorpe, Markland Wood\n\nGuildwood, Morningside, West Hill\n\nThe Beaches\n\nBerczy Park\n\nCaledonia-Fairbanks\n\nWoburn\n\nLeaside\n\nCentral Bay Street\n\nChristie\n\nCedarbrae\n\nHillcrest Village\n\nBathurst Manor, Wilson Heights, Downsview North\n\nThorncliffe Park\n\nRichmond, Adelaide, King\n\nDufferin, Dovercourt Village\n\nScarborough Village\n\nFairview, Henry Farm, Oriole\n\nNorthwood Park, York University\n\nEast Toronto, Broadview North (Old East York)\n\nHarbourfront East, Union Station, Toronto Islands\n\nLittle Portugal, Trinity\n\nKennedy Park, Ionview, East Birchmount Park\n\nBayview Village\n\nDownsview\n\nThe Danforth West, Riverdale\n\nToronto Dominion Centre, Design Exchange\n\nBrockton, Parkdale Village, Exhibition Place\n\nGolden Mile, Clairlea, Oakridge\n\nYork Mills, Silver Hills\n\nDownsview\n\nIndia Bazaar, The Beaches West\n\nCommerce Court, Victoria Hotel\n\nNorth Park, Maple Leaf Park, Upwood Park\n\nHumber Summit\n\nCliffside, Cliffcrest, Scarborough Village West\n\nWillowdale, Newtonbrook\n\nDownsview\n\nStudio District\n\nBedford Park, Lawrence Manor East\n\nDel Ray, Mount Dennis, Keelsdale and Silverthorn\n\nHumberlea, Emery\n\nBirch Cliff, Cliffside West\n\nWillowdale, Willowdale East\n\nDownsview\n\nLawrence Park\n\nRoselawn\n\nRunnymede, The Junction North\n\nWeston\n\nDorset Park, Wexford Heights, Scarborough Town Centre\n\nYork Mills West\n\nDavisville North\n\nForest Hill North & West, Forest Hill Road Park\n\nHigh Park, The Junction South\n\nWestmount\n\nWexford, Maryvale\n\nWillowdale, Willowdale West\n\nNorth Toronto West,  Lawrence Park\n\nThe Annex, North Midtown, Yorkville\n\nParkdale, Roncesvalles\n\nCanada Post Gateway Processing Centre\n\nKingsview Village, St. Phillips, Martin Grove Gardens, Richview Gardens\n\nAgincourt\n\nDavisville\n\nUniversity of Toronto, Harbord\n\nRunnymede, Swansea\n\nClarks Corners, Tam O'Shanter, Sullivan\n\nMoore Park, Summerhill East\n\nKensington Market, Chinatown, Grange Park\n\nMilliken, Agincourt North, Steeles East, L'Amoreaux East\n\nSummerhill West, Rathnelly, South Hill, Forest Hill SE, Deer Park\n\nCN Tower, King and Spadina, Railway Lands, Harbourfront West, Bathurst Quay, South Niagara, Island airport\n\nNew Toronto, Mimico South, Humber Bay Shores\n\nSouth Steeles, Silverstone, Humbergate, Jamestown, Mount Olive, Beaumond Heights, Thistletown, Albion Gardens\n\nSteeles West, L'Amoreaux West\n\nRosedale\n\nStn A PO Boxes\n\nAlderwood, Long Branch\n\nNorthwest, West Humber - Clairville\n\nUpper Rouge\n\nSt. James Town, Cabbagetown\n\nFirst Canadian Place, Underground city\n\nThe Kingsway, Montgomery Road, Old Mill North\n\nChurch and Wellesley\n\nBusiness reply mail Processing Centre, South Central Letter Processing Plant Toronto\n\nOld Mill South, King's Mill Park, Sunnylea, Humber Bay, Mimico NE, The Queensway East, Royal York South East, Kingsway Park South East\n\n",
                    "name": "stdout"
                }
            ]
        },
        {
            "metadata": {},
            "cell_type": "code",
            "source": "print(toronto_venues.shape)\ntoronto_venues.head()",
            "execution_count": 23,
            "outputs": [
                {
                    "output_type": "stream",
                    "text": "(510, 7)\n",
                    "name": "stdout"
                },
                {
                    "output_type": "execute_result",
                    "execution_count": 23,
                    "data": {
                        "text/plain": "  Neighborhood  Neighborhood Latitude  Neighborhood Longitude  \\\n0  Parkwoods\\n               43.75245               -79.32991   \n1  Parkwoods\\n               43.75245               -79.32991   \n2  Parkwoods\\n               43.75245               -79.32991   \n3  Parkwoods\\n               43.75245               -79.32991   \n4  Parkwoods\\n               43.75245               -79.32991   \n\n                                Venue  Venue Latitude  Venue Longitude  \\\n0                   Glen Manor Ravine       43.676821       -79.293942   \n1  The Big Carrot Natural Food Market       43.678879       -79.297734   \n2                 Grover Pub and Grub       43.679181       -79.297215   \n3                       Upper Beaches       43.680563       -79.292869   \n4                 Seaspray Restaurant       43.678888       -79.298167   \n\n      Venue Category  \n0              Trail  \n1  Health Food Store  \n2                Pub  \n3       Neighborhood  \n4   Asian Restaurant  ",
                        "text/html": "<div>\n<style scoped>\n    .dataframe tbody tr th:only-of-type {\n        vertical-align: middle;\n    }\n\n    .dataframe tbody tr th {\n        vertical-align: top;\n    }\n\n    .dataframe thead th {\n        text-align: right;\n    }\n</style>\n<table border=\"1\" class=\"dataframe\">\n  <thead>\n    <tr style=\"text-align: right;\">\n      <th></th>\n      <th>Neighborhood</th>\n      <th>Neighborhood Latitude</th>\n      <th>Neighborhood Longitude</th>\n      <th>Venue</th>\n      <th>Venue Latitude</th>\n      <th>Venue Longitude</th>\n      <th>Venue Category</th>\n    </tr>\n  </thead>\n  <tbody>\n    <tr>\n      <th>0</th>\n      <td>Parkwoods\\n</td>\n      <td>43.75245</td>\n      <td>-79.32991</td>\n      <td>Glen Manor Ravine</td>\n      <td>43.676821</td>\n      <td>-79.293942</td>\n      <td>Trail</td>\n    </tr>\n    <tr>\n      <th>1</th>\n      <td>Parkwoods\\n</td>\n      <td>43.75245</td>\n      <td>-79.32991</td>\n      <td>The Big Carrot Natural Food Market</td>\n      <td>43.678879</td>\n      <td>-79.297734</td>\n      <td>Health Food Store</td>\n    </tr>\n    <tr>\n      <th>2</th>\n      <td>Parkwoods\\n</td>\n      <td>43.75245</td>\n      <td>-79.32991</td>\n      <td>Grover Pub and Grub</td>\n      <td>43.679181</td>\n      <td>-79.297215</td>\n      <td>Pub</td>\n    </tr>\n    <tr>\n      <th>3</th>\n      <td>Parkwoods\\n</td>\n      <td>43.75245</td>\n      <td>-79.32991</td>\n      <td>Upper Beaches</td>\n      <td>43.680563</td>\n      <td>-79.292869</td>\n      <td>Neighborhood</td>\n    </tr>\n    <tr>\n      <th>4</th>\n      <td>Parkwoods\\n</td>\n      <td>43.75245</td>\n      <td>-79.32991</td>\n      <td>Seaspray Restaurant</td>\n      <td>43.678888</td>\n      <td>-79.298167</td>\n      <td>Asian Restaurant</td>\n    </tr>\n  </tbody>\n</table>\n</div>"
                    },
                    "metadata": {}
                }
            ]
        },
        {
            "metadata": {},
            "cell_type": "code",
            "source": "toronto_venues.groupby('Neighborhood').count()",
            "execution_count": 24,
            "outputs": [
                {
                    "output_type": "execute_result",
                    "execution_count": 24,
                    "data": {
                        "text/plain": "                                                   Neighborhood Latitude  \\\nNeighborhood                                                               \nAgincourt\\n                                                            5   \nAlderwood, Long Branch\\n                                               5   \nBathurst Manor, Wilson Heights, Downsview North\\n                      5   \nBayview Village\\n                                                      5   \nBedford Park, Lawrence Manor East\\n                                    5   \n...                                                                  ...   \nWillowdale, Willowdale West\\n                                          5   \nWoburn\\n                                                               5   \nWoodbine Heights\\n                                                     5   \nYork Mills West\\n                                                      5   \nYork Mills, Silver Hills\\n                                             5   \n\n                                                   Neighborhood Longitude  \\\nNeighborhood                                                                \nAgincourt\\n                                                             5   \nAlderwood, Long Branch\\n                                                5   \nBathurst Manor, Wilson Heights, Downsview North\\n                       5   \nBayview Village\\n                                                       5   \nBedford Park, Lawrence Manor East\\n                                     5   \n...                                                                   ...   \nWillowdale, Willowdale West\\n                                           5   \nWoburn\\n                                                                5   \nWoodbine Heights\\n                                                      5   \nYork Mills West\\n                                                       5   \nYork Mills, Silver Hills\\n                                              5   \n\n                                                   Venue  Venue Latitude  \\\nNeighborhood                                                               \nAgincourt\\n                                            5               5   \nAlderwood, Long Branch\\n                               5               5   \nBathurst Manor, Wilson Heights, Downsview North\\n      5               5   \nBayview Village\\n                                      5               5   \nBedford Park, Lawrence Manor East\\n                    5               5   \n...                                                  ...             ...   \nWillowdale, Willowdale West\\n                          5               5   \nWoburn\\n                                               5               5   \nWoodbine Heights\\n                                     5               5   \nYork Mills West\\n                                      5               5   \nYork Mills, Silver Hills\\n                             5               5   \n\n                                                   Venue Longitude  \\\nNeighborhood                                                         \nAgincourt\\n                                                      5   \nAlderwood, Long Branch\\n                                         5   \nBathurst Manor, Wilson Heights, Downsview North\\n                5   \nBayview Village\\n                                                5   \nBedford Park, Lawrence Manor East\\n                              5   \n...                                                            ...   \nWillowdale, Willowdale West\\n                                    5   \nWoburn\\n                                                         5   \nWoodbine Heights\\n                                               5   \nYork Mills West\\n                                                5   \nYork Mills, Silver Hills\\n                                       5   \n\n                                                   Venue Category  \nNeighborhood                                                       \nAgincourt\\n                                                     5  \nAlderwood, Long Branch\\n                                        5  \nBathurst Manor, Wilson Heights, Downsview North\\n               5  \nBayview Village\\n                                               5  \nBedford Park, Lawrence Manor East\\n                             5  \n...                                                           ...  \nWillowdale, Willowdale West\\n                                   5  \nWoburn\\n                                                        5  \nWoodbine Heights\\n                                              5  \nYork Mills West\\n                                               5  \nYork Mills, Silver Hills\\n                                      5  \n\n[98 rows x 6 columns]",
                        "text/html": "<div>\n<style scoped>\n    .dataframe tbody tr th:only-of-type {\n        vertical-align: middle;\n    }\n\n    .dataframe tbody tr th {\n        vertical-align: top;\n    }\n\n    .dataframe thead th {\n        text-align: right;\n    }\n</style>\n<table border=\"1\" class=\"dataframe\">\n  <thead>\n    <tr style=\"text-align: right;\">\n      <th></th>\n      <th>Neighborhood Latitude</th>\n      <th>Neighborhood Longitude</th>\n      <th>Venue</th>\n      <th>Venue Latitude</th>\n      <th>Venue Longitude</th>\n      <th>Venue Category</th>\n    </tr>\n    <tr>\n      <th>Neighborhood</th>\n      <th></th>\n      <th></th>\n      <th></th>\n      <th></th>\n      <th></th>\n      <th></th>\n    </tr>\n  </thead>\n  <tbody>\n    <tr>\n      <th>Agincourt\\n</th>\n      <td>5</td>\n      <td>5</td>\n      <td>5</td>\n      <td>5</td>\n      <td>5</td>\n      <td>5</td>\n    </tr>\n    <tr>\n      <th>Alderwood, Long Branch\\n</th>\n      <td>5</td>\n      <td>5</td>\n      <td>5</td>\n      <td>5</td>\n      <td>5</td>\n      <td>5</td>\n    </tr>\n    <tr>\n      <th>Bathurst Manor, Wilson Heights, Downsview North\\n</th>\n      <td>5</td>\n      <td>5</td>\n      <td>5</td>\n      <td>5</td>\n      <td>5</td>\n      <td>5</td>\n    </tr>\n    <tr>\n      <th>Bayview Village\\n</th>\n      <td>5</td>\n      <td>5</td>\n      <td>5</td>\n      <td>5</td>\n      <td>5</td>\n      <td>5</td>\n    </tr>\n    <tr>\n      <th>Bedford Park, Lawrence Manor East\\n</th>\n      <td>5</td>\n      <td>5</td>\n      <td>5</td>\n      <td>5</td>\n      <td>5</td>\n      <td>5</td>\n    </tr>\n    <tr>\n      <th>...</th>\n      <td>...</td>\n      <td>...</td>\n      <td>...</td>\n      <td>...</td>\n      <td>...</td>\n      <td>...</td>\n    </tr>\n    <tr>\n      <th>Willowdale, Willowdale West\\n</th>\n      <td>5</td>\n      <td>5</td>\n      <td>5</td>\n      <td>5</td>\n      <td>5</td>\n      <td>5</td>\n    </tr>\n    <tr>\n      <th>Woburn\\n</th>\n      <td>5</td>\n      <td>5</td>\n      <td>5</td>\n      <td>5</td>\n      <td>5</td>\n      <td>5</td>\n    </tr>\n    <tr>\n      <th>Woodbine Heights\\n</th>\n      <td>5</td>\n      <td>5</td>\n      <td>5</td>\n      <td>5</td>\n      <td>5</td>\n      <td>5</td>\n    </tr>\n    <tr>\n      <th>York Mills West\\n</th>\n      <td>5</td>\n      <td>5</td>\n      <td>5</td>\n      <td>5</td>\n      <td>5</td>\n      <td>5</td>\n    </tr>\n    <tr>\n      <th>York Mills, Silver Hills\\n</th>\n      <td>5</td>\n      <td>5</td>\n      <td>5</td>\n      <td>5</td>\n      <td>5</td>\n      <td>5</td>\n    </tr>\n  </tbody>\n</table>\n<p>98 rows \u00d7 6 columns</p>\n</div>"
                    },
                    "metadata": {}
                }
            ]
        },
        {
            "metadata": {},
            "cell_type": "code",
            "source": "print('There are {} uniques categories.'.format(len(toronto_venues['Venue Category'].unique())))",
            "execution_count": 25,
            "outputs": [
                {
                    "output_type": "stream",
                    "text": "There are 5 uniques categories.\n",
                    "name": "stdout"
                }
            ]
        },
        {
            "metadata": {},
            "cell_type": "code",
            "source": "toronto_onehot = pd.get_dummies(toronto_venues[['Venue Category']], prefix=\"\", prefix_sep=\"\")\n\ntoronto_onehot['Neighborhood'] = toronto_venues['Neighborhood'] \n\nfixed_columns = [toronto_onehot.columns[-1]] + list(toronto_onehot.columns[:-1])\ntoronto_onehot = toronto_onehot[fixed_columns]\n\ntoronto_onehot.head()",
            "execution_count": 26,
            "outputs": [
                {
                    "output_type": "execute_result",
                    "execution_count": 26,
                    "data": {
                        "text/plain": "   Trail  Asian Restaurant  Health Food Store Neighborhood  Pub\n0      1                 0                  0  Parkwoods\\n    0\n1      0                 0                  1  Parkwoods\\n    0\n2      0                 0                  0  Parkwoods\\n    1\n3      0                 0                  0  Parkwoods\\n    0\n4      0                 1                  0  Parkwoods\\n    0",
                        "text/html": "<div>\n<style scoped>\n    .dataframe tbody tr th:only-of-type {\n        vertical-align: middle;\n    }\n\n    .dataframe tbody tr th {\n        vertical-align: top;\n    }\n\n    .dataframe thead th {\n        text-align: right;\n    }\n</style>\n<table border=\"1\" class=\"dataframe\">\n  <thead>\n    <tr style=\"text-align: right;\">\n      <th></th>\n      <th>Trail</th>\n      <th>Asian Restaurant</th>\n      <th>Health Food Store</th>\n      <th>Neighborhood</th>\n      <th>Pub</th>\n    </tr>\n  </thead>\n  <tbody>\n    <tr>\n      <th>0</th>\n      <td>1</td>\n      <td>0</td>\n      <td>0</td>\n      <td>Parkwoods\\n</td>\n      <td>0</td>\n    </tr>\n    <tr>\n      <th>1</th>\n      <td>0</td>\n      <td>0</td>\n      <td>1</td>\n      <td>Parkwoods\\n</td>\n      <td>0</td>\n    </tr>\n    <tr>\n      <th>2</th>\n      <td>0</td>\n      <td>0</td>\n      <td>0</td>\n      <td>Parkwoods\\n</td>\n      <td>1</td>\n    </tr>\n    <tr>\n      <th>3</th>\n      <td>0</td>\n      <td>0</td>\n      <td>0</td>\n      <td>Parkwoods\\n</td>\n      <td>0</td>\n    </tr>\n    <tr>\n      <th>4</th>\n      <td>0</td>\n      <td>1</td>\n      <td>0</td>\n      <td>Parkwoods\\n</td>\n      <td>0</td>\n    </tr>\n  </tbody>\n</table>\n</div>"
                    },
                    "metadata": {}
                }
            ]
        },
        {
            "metadata": {},
            "cell_type": "code",
            "source": "toronto_onehot.shape",
            "execution_count": 27,
            "outputs": [
                {
                    "output_type": "execute_result",
                    "execution_count": 27,
                    "data": {
                        "text/plain": "(510, 5)"
                    },
                    "metadata": {}
                }
            ]
        },
        {
            "metadata": {},
            "cell_type": "code",
            "source": "toronto_grouped = toronto_onehot.groupby('Neighborhood').mean().reset_index()\ntoronto_grouped",
            "execution_count": 28,
            "outputs": [
                {
                    "output_type": "execute_result",
                    "execution_count": 28,
                    "data": {
                        "text/plain": "                                         Neighborhood  Trail  \\\n0                                         Agincourt\\n    0.2   \n1                            Alderwood, Long Branch\\n    0.2   \n2   Bathurst Manor, Wilson Heights, Downsview North\\n    0.2   \n3                                   Bayview Village\\n    0.2   \n4                 Bedford Park, Lawrence Manor East\\n    0.2   \n..                                                ...    ...   \n93                      Willowdale, Willowdale West\\n    0.2   \n94                                           Woburn\\n    0.2   \n95                                 Woodbine Heights\\n    0.2   \n96                                  York Mills West\\n    0.2   \n97                         York Mills, Silver Hills\\n    0.2   \n\n    Asian Restaurant  Health Food Store  Pub  \n0                0.2                0.2  0.2  \n1                0.2                0.2  0.2  \n2                0.2                0.2  0.2  \n3                0.2                0.2  0.2  \n4                0.2                0.2  0.2  \n..               ...                ...  ...  \n93               0.2                0.2  0.2  \n94               0.2                0.2  0.2  \n95               0.2                0.2  0.2  \n96               0.2                0.2  0.2  \n97               0.2                0.2  0.2  \n\n[98 rows x 5 columns]",
                        "text/html": "<div>\n<style scoped>\n    .dataframe tbody tr th:only-of-type {\n        vertical-align: middle;\n    }\n\n    .dataframe tbody tr th {\n        vertical-align: top;\n    }\n\n    .dataframe thead th {\n        text-align: right;\n    }\n</style>\n<table border=\"1\" class=\"dataframe\">\n  <thead>\n    <tr style=\"text-align: right;\">\n      <th></th>\n      <th>Neighborhood</th>\n      <th>Trail</th>\n      <th>Asian Restaurant</th>\n      <th>Health Food Store</th>\n      <th>Pub</th>\n    </tr>\n  </thead>\n  <tbody>\n    <tr>\n      <th>0</th>\n      <td>Agincourt\\n</td>\n      <td>0.2</td>\n      <td>0.2</td>\n      <td>0.2</td>\n      <td>0.2</td>\n    </tr>\n    <tr>\n      <th>1</th>\n      <td>Alderwood, Long Branch\\n</td>\n      <td>0.2</td>\n      <td>0.2</td>\n      <td>0.2</td>\n      <td>0.2</td>\n    </tr>\n    <tr>\n      <th>2</th>\n      <td>Bathurst Manor, Wilson Heights, Downsview North\\n</td>\n      <td>0.2</td>\n      <td>0.2</td>\n      <td>0.2</td>\n      <td>0.2</td>\n    </tr>\n    <tr>\n      <th>3</th>\n      <td>Bayview Village\\n</td>\n      <td>0.2</td>\n      <td>0.2</td>\n      <td>0.2</td>\n      <td>0.2</td>\n    </tr>\n    <tr>\n      <th>4</th>\n      <td>Bedford Park, Lawrence Manor East\\n</td>\n      <td>0.2</td>\n      <td>0.2</td>\n      <td>0.2</td>\n      <td>0.2</td>\n    </tr>\n    <tr>\n      <th>...</th>\n      <td>...</td>\n      <td>...</td>\n      <td>...</td>\n      <td>...</td>\n      <td>...</td>\n    </tr>\n    <tr>\n      <th>93</th>\n      <td>Willowdale, Willowdale West\\n</td>\n      <td>0.2</td>\n      <td>0.2</td>\n      <td>0.2</td>\n      <td>0.2</td>\n    </tr>\n    <tr>\n      <th>94</th>\n      <td>Woburn\\n</td>\n      <td>0.2</td>\n      <td>0.2</td>\n      <td>0.2</td>\n      <td>0.2</td>\n    </tr>\n    <tr>\n      <th>95</th>\n      <td>Woodbine Heights\\n</td>\n      <td>0.2</td>\n      <td>0.2</td>\n      <td>0.2</td>\n      <td>0.2</td>\n    </tr>\n    <tr>\n      <th>96</th>\n      <td>York Mills West\\n</td>\n      <td>0.2</td>\n      <td>0.2</td>\n      <td>0.2</td>\n      <td>0.2</td>\n    </tr>\n    <tr>\n      <th>97</th>\n      <td>York Mills, Silver Hills\\n</td>\n      <td>0.2</td>\n      <td>0.2</td>\n      <td>0.2</td>\n      <td>0.2</td>\n    </tr>\n  </tbody>\n</table>\n<p>98 rows \u00d7 5 columns</p>\n</div>"
                    },
                    "metadata": {}
                }
            ]
        },
        {
            "metadata": {},
            "cell_type": "code",
            "source": "# confirm the new size\n\ntoronto_grouped.shape",
            "execution_count": 29,
            "outputs": [
                {
                    "output_type": "execute_result",
                    "execution_count": 29,
                    "data": {
                        "text/plain": "(98, 5)"
                    },
                    "metadata": {}
                }
            ]
        },
        {
            "metadata": {},
            "cell_type": "code",
            "source": "# print each neighborhood along with the top 5 most common venues\n\nnum_top_venues = 5\n\nfor hood in toronto_grouped['Neighborhood']:\n    print(\"----\"+hood+\"----\")\n    temp = toronto_grouped[toronto_grouped['Neighborhood'] == hood].T.reset_index()\n    temp.columns = ['venue','freq']\n    temp = temp.iloc[1:]\n    temp['freq'] = temp['freq'].astype(float)\n    temp = temp.round({'freq': 2})\n    print(temp.sort_values('freq', ascending=False).reset_index(drop=True).head(num_top_venues))\n    print('\\n')",
            "execution_count": 30,
            "outputs": [
                {
                    "output_type": "stream",
                    "text": "----Agincourt\n----\n               venue  freq\n0              Trail   0.2\n1   Asian Restaurant   0.2\n2  Health Food Store   0.2\n3                Pub   0.2\n\n\n----Alderwood, Long Branch\n----\n               venue  freq\n0              Trail   0.2\n1   Asian Restaurant   0.2\n2  Health Food Store   0.2\n3                Pub   0.2\n\n\n----Bathurst Manor, Wilson Heights, Downsview North\n----\n               venue  freq\n0              Trail   0.2\n1   Asian Restaurant   0.2\n2  Health Food Store   0.2\n3                Pub   0.2\n\n\n----Bayview Village\n----\n               venue  freq\n0              Trail   0.2\n1   Asian Restaurant   0.2\n2  Health Food Store   0.2\n3                Pub   0.2\n\n\n----Bedford Park, Lawrence Manor East\n----\n               venue  freq\n0              Trail   0.2\n1   Asian Restaurant   0.2\n2  Health Food Store   0.2\n3                Pub   0.2\n\n\n----Berczy Park\n----\n               venue  freq\n0              Trail   0.2\n1   Asian Restaurant   0.2\n2  Health Food Store   0.2\n3                Pub   0.2\n\n\n----Birch Cliff, Cliffside West\n----\n               venue  freq\n0              Trail   0.2\n1   Asian Restaurant   0.2\n2  Health Food Store   0.2\n3                Pub   0.2\n\n\n----Brockton, Parkdale Village, Exhibition Place\n----\n               venue  freq\n0              Trail   0.2\n1   Asian Restaurant   0.2\n2  Health Food Store   0.2\n3                Pub   0.2\n\n\n----Business reply mail Processing Centre, South Central Letter Processing Plant Toronto\n----\n               venue  freq\n0              Trail   0.2\n1   Asian Restaurant   0.2\n2  Health Food Store   0.2\n3                Pub   0.2\n\n\n----CN Tower, King and Spadina, Railway Lands, Harbourfront West, Bathurst Quay, South Niagara, Island airport\n----\n               venue  freq\n0              Trail   0.2\n1   Asian Restaurant   0.2\n2  Health Food Store   0.2\n3                Pub   0.2\n\n\n----Caledonia-Fairbanks\n----\n               venue  freq\n0              Trail   0.2\n1   Asian Restaurant   0.2\n2  Health Food Store   0.2\n3                Pub   0.2\n\n\n----Canada Post Gateway Processing Centre\n----\n               venue  freq\n0              Trail   0.2\n1   Asian Restaurant   0.2\n2  Health Food Store   0.2\n3                Pub   0.2\n\n\n----Cedarbrae\n----\n               venue  freq\n0              Trail   0.2\n1   Asian Restaurant   0.2\n2  Health Food Store   0.2\n3                Pub   0.2\n\n\n----Central Bay Street\n----\n               venue  freq\n0              Trail   0.2\n1   Asian Restaurant   0.2\n2  Health Food Store   0.2\n3                Pub   0.2\n\n\n----Christie\n----\n               venue  freq\n0              Trail   0.2\n1   Asian Restaurant   0.2\n2  Health Food Store   0.2\n3                Pub   0.2\n\n\n----Church and Wellesley\n----\n               venue  freq\n0              Trail   0.2\n1   Asian Restaurant   0.2\n2  Health Food Store   0.2\n3                Pub   0.2\n\n\n----Clarks Corners, Tam O'Shanter, Sullivan\n----\n               venue  freq\n0              Trail   0.2\n1   Asian Restaurant   0.2\n2  Health Food Store   0.2\n3                Pub   0.2\n\n\n----Cliffside, Cliffcrest, Scarborough Village West\n----\n               venue  freq\n0              Trail   0.2\n1   Asian Restaurant   0.2\n2  Health Food Store   0.2\n3                Pub   0.2\n\n\n----Commerce Court, Victoria Hotel\n----\n               venue  freq\n0              Trail   0.2\n1   Asian Restaurant   0.2\n2  Health Food Store   0.2\n3                Pub   0.2\n\n\n----Davisville\n----\n               venue  freq\n0              Trail   0.2\n1   Asian Restaurant   0.2\n2  Health Food Store   0.2\n3                Pub   0.2\n\n\n----Davisville North\n----\n               venue  freq\n0              Trail   0.2\n1   Asian Restaurant   0.2\n2  Health Food Store   0.2\n3                Pub   0.2\n\n\n----Del Ray, Mount Dennis, Keelsdale and Silverthorn\n----\n               venue  freq\n0              Trail   0.2\n1   Asian Restaurant   0.2\n2  Health Food Store   0.2\n3                Pub   0.2\n\n\n----Don Mills\n----\n               venue  freq\n0              Trail   0.2\n1   Asian Restaurant   0.2\n2  Health Food Store   0.2\n3                Pub   0.2\n\n\n----Dorset Park, Wexford Heights, Scarborough Town Centre\n----\n               venue  freq\n0              Trail   0.2\n1   Asian Restaurant   0.2\n2  Health Food Store   0.2\n3                Pub   0.2\n\n\n----Downsview\n----\n               venue  freq\n0              Trail   0.2\n1   Asian Restaurant   0.2\n2  Health Food Store   0.2\n3                Pub   0.2\n\n\n----Dufferin, Dovercourt Village\n----\n               venue  freq\n0              Trail   0.2\n1   Asian Restaurant   0.2\n2  Health Food Store   0.2\n3                Pub   0.2\n\n\n----East Toronto, Broadview North (Old East York)\n----\n               venue  freq\n0              Trail   0.2\n1   Asian Restaurant   0.2\n2  Health Food Store   0.2\n3                Pub   0.2\n\n\n----Eringate, Bloordale Gardens, Old Burnhamthorpe, Markland Wood\n----\n               venue  freq\n0              Trail   0.2\n1   Asian Restaurant   0.2\n2  Health Food Store   0.2\n3                Pub   0.2\n\n\n----Fairview, Henry Farm, Oriole\n----\n               venue  freq\n0              Trail   0.2\n1   Asian Restaurant   0.2\n2  Health Food Store   0.2\n3                Pub   0.2\n\n\n----First Canadian Place, Underground city\n----\n               venue  freq\n0              Trail   0.2\n1   Asian Restaurant   0.2\n2  Health Food Store   0.2\n3                Pub   0.2\n\n\n----Forest Hill North & West, Forest Hill Road Park\n----\n               venue  freq\n0              Trail   0.2\n1   Asian Restaurant   0.2\n2  Health Food Store   0.2\n3                Pub   0.2\n\n\n----Garden District, Ryerson\n----\n               venue  freq\n0              Trail   0.2\n1   Asian Restaurant   0.2\n2  Health Food Store   0.2\n3                Pub   0.2\n\n\n----Glencairn\n----\n               venue  freq\n0              Trail   0.2\n1   Asian Restaurant   0.2\n2  Health Food Store   0.2\n3                Pub   0.2\n\n\n----Golden Mile, Clairlea, Oakridge\n----\n               venue  freq\n0              Trail   0.2\n1   Asian Restaurant   0.2\n2  Health Food Store   0.2\n3                Pub   0.2\n\n\n----Guildwood, Morningside, West Hill\n----\n               venue  freq\n0              Trail   0.2\n1   Asian Restaurant   0.2\n2  Health Food Store   0.2\n3                Pub   0.2\n\n\n----Harbourfront East, Union Station, Toronto Islands\n----\n               venue  freq\n0              Trail   0.2\n1   Asian Restaurant   0.2\n2  Health Food Store   0.2\n3                Pub   0.2\n\n\n----High Park, The Junction South\n----\n               venue  freq\n0              Trail   0.2\n1   Asian Restaurant   0.2\n2  Health Food Store   0.2\n3                Pub   0.2\n\n\n----Hillcrest Village\n----\n               venue  freq\n0              Trail   0.2\n1   Asian Restaurant   0.2\n2  Health Food Store   0.2\n3                Pub   0.2\n\n\n----Humber Summit\n----\n               venue  freq\n0              Trail   0.2\n1   Asian Restaurant   0.2\n2  Health Food Store   0.2\n3                Pub   0.2\n\n\n----Humberlea, Emery\n----\n               venue  freq\n0              Trail   0.2\n1   Asian Restaurant   0.2\n2  Health Food Store   0.2\n3                Pub   0.2\n\n\n----Humewood-Cedarvale\n----\n               venue  freq\n0              Trail   0.2\n1   Asian Restaurant   0.2\n2  Health Food Store   0.2\n3                Pub   0.2\n\n\n----India Bazaar, The Beaches West\n----\n               venue  freq\n0              Trail   0.2\n1   Asian Restaurant   0.2\n2  Health Food Store   0.2\n3                Pub   0.2\n\n\n----Islington Avenue, Humber Valley Village\n----\n               venue  freq\n0              Trail   0.2\n1   Asian Restaurant   0.2\n2  Health Food Store   0.2\n3                Pub   0.2\n\n\n----Kennedy Park, Ionview, East Birchmount Park\n----\n               venue  freq\n0              Trail   0.2\n1   Asian Restaurant   0.2\n2  Health Food Store   0.2\n3                Pub   0.2\n\n\n----Kensington Market, Chinatown, Grange Park\n----\n               venue  freq\n0              Trail   0.2\n1   Asian Restaurant   0.2\n2  Health Food Store   0.2\n3                Pub   0.2\n\n\n----Kingsview Village, St. Phillips, Martin Grove Gardens, Richview Gardens\n----\n               venue  freq\n0              Trail   0.2\n1   Asian Restaurant   0.2\n2  Health Food Store   0.2\n3                Pub   0.2\n\n\n----Lawrence Manor, Lawrence Heights\n----\n               venue  freq\n0              Trail   0.2\n1   Asian Restaurant   0.2\n2  Health Food Store   0.2\n3                Pub   0.2\n\n\n----Lawrence Park\n----\n               venue  freq\n0              Trail   0.2\n1   Asian Restaurant   0.2\n2  Health Food Store   0.2\n3                Pub   0.2\n\n\n----Leaside\n----\n               venue  freq\n0              Trail   0.2\n1   Asian Restaurant   0.2\n2  Health Food Store   0.2\n3                Pub   0.2\n\n\n----Little Portugal, Trinity\n----\n               venue  freq\n0              Trail   0.2\n1   Asian Restaurant   0.2\n2  Health Food Store   0.2\n3                Pub   0.2\n\n\n----Malvern, Rouge\n----\n               venue  freq\n0              Trail   0.2\n1   Asian Restaurant   0.2\n2  Health Food Store   0.2\n3                Pub   0.2\n\n\n----Milliken, Agincourt North, Steeles East, L'Amoreaux East\n----\n               venue  freq\n0              Trail   0.2\n1   Asian Restaurant   0.2\n2  Health Food Store   0.2\n3                Pub   0.2\n\n\n----Moore Park, Summerhill East\n----\n               venue  freq\n0              Trail   0.2\n1   Asian Restaurant   0.2\n2  Health Food Store   0.2\n3                Pub   0.2\n\n\n----New Toronto, Mimico South, Humber Bay Shores\n----\n               venue  freq\n0              Trail   0.2\n1   Asian Restaurant   0.2\n2  Health Food Store   0.2\n3                Pub   0.2\n\n\n----North Park, Maple Leaf Park, Upwood Park\n----\n               venue  freq\n0              Trail   0.2\n1   Asian Restaurant   0.2\n2  Health Food Store   0.2\n3                Pub   0.2\n\n\n----North Toronto West,  Lawrence Park\n----\n               venue  freq\n0              Trail   0.2\n1   Asian Restaurant   0.2\n2  Health Food Store   0.2\n3                Pub   0.2\n\n\n----Northwest, West Humber - Clairville\n----\n               venue  freq\n0              Trail   0.2\n1   Asian Restaurant   0.2\n2  Health Food Store   0.2\n3                Pub   0.2\n\n\n----Northwood Park, York University\n----\n               venue  freq\n0              Trail   0.2\n1   Asian Restaurant   0.2\n2  Health Food Store   0.2\n3                Pub   0.2\n\n\n----Old Mill South, King's Mill Park, Sunnylea, Humber Bay, Mimico NE, The Queensway East, Royal York South East, Kingsway Park South East\n----\n               venue  freq\n0              Trail   0.2\n1   Asian Restaurant   0.2\n2  Health Food Store   0.2\n3                Pub   0.2\n\n\n----Parkdale, Roncesvalles\n----\n",
                    "name": "stdout"
                },
                {
                    "output_type": "stream",
                    "text": "               venue  freq\n0              Trail   0.2\n1   Asian Restaurant   0.2\n2  Health Food Store   0.2\n3                Pub   0.2\n\n\n----Parkview Hill, Woodbine Gardens\n----\n               venue  freq\n0              Trail   0.2\n1   Asian Restaurant   0.2\n2  Health Food Store   0.2\n3                Pub   0.2\n\n\n----Parkwoods\n----\n               venue  freq\n0              Trail   0.2\n1   Asian Restaurant   0.2\n2  Health Food Store   0.2\n3                Pub   0.2\n\n\n----Queen's Park, Ontario Provincial Government\n----\n               venue  freq\n0              Trail   0.2\n1   Asian Restaurant   0.2\n2  Health Food Store   0.2\n3                Pub   0.2\n\n\n----Regent Park, Harbourfront\n----\n               venue  freq\n0              Trail   0.2\n1   Asian Restaurant   0.2\n2  Health Food Store   0.2\n3                Pub   0.2\n\n\n----Richmond, Adelaide, King\n----\n               venue  freq\n0              Trail   0.2\n1   Asian Restaurant   0.2\n2  Health Food Store   0.2\n3                Pub   0.2\n\n\n----Rosedale\n----\n               venue  freq\n0              Trail   0.2\n1   Asian Restaurant   0.2\n2  Health Food Store   0.2\n3                Pub   0.2\n\n\n----Roselawn\n----\n               venue  freq\n0              Trail   0.2\n1   Asian Restaurant   0.2\n2  Health Food Store   0.2\n3                Pub   0.2\n\n\n----Rouge Hill, Port Union, Highland Creek\n----\n               venue  freq\n0              Trail   0.2\n1   Asian Restaurant   0.2\n2  Health Food Store   0.2\n3                Pub   0.2\n\n\n----Runnymede, Swansea\n----\n               venue  freq\n0              Trail   0.2\n1   Asian Restaurant   0.2\n2  Health Food Store   0.2\n3                Pub   0.2\n\n\n----Runnymede, The Junction North\n----\n               venue  freq\n0              Trail   0.2\n1   Asian Restaurant   0.2\n2  Health Food Store   0.2\n3                Pub   0.2\n\n\n----Scarborough Village\n----\n               venue  freq\n0              Trail   0.2\n1   Asian Restaurant   0.2\n2  Health Food Store   0.2\n3                Pub   0.2\n\n\n----South Steeles, Silverstone, Humbergate, Jamestown, Mount Olive, Beaumond Heights, Thistletown, Albion Gardens\n----\n               venue  freq\n0              Trail   0.2\n1   Asian Restaurant   0.2\n2  Health Food Store   0.2\n3                Pub   0.2\n\n\n----St. James Town\n----\n               venue  freq\n0              Trail   0.2\n1   Asian Restaurant   0.2\n2  Health Food Store   0.2\n3                Pub   0.2\n\n\n----St. James Town, Cabbagetown\n----\n               venue  freq\n0              Trail   0.2\n1   Asian Restaurant   0.2\n2  Health Food Store   0.2\n3                Pub   0.2\n\n\n----Steeles West, L'Amoreaux West\n----\n               venue  freq\n0              Trail   0.2\n1   Asian Restaurant   0.2\n2  Health Food Store   0.2\n3                Pub   0.2\n\n\n----Stn A PO Boxes\n----\n               venue  freq\n0              Trail   0.2\n1   Asian Restaurant   0.2\n2  Health Food Store   0.2\n3                Pub   0.2\n\n\n----Studio District\n----\n               venue  freq\n0              Trail   0.2\n1   Asian Restaurant   0.2\n2  Health Food Store   0.2\n3                Pub   0.2\n\n\n----Summerhill West, Rathnelly, South Hill, Forest Hill SE, Deer Park\n----\n               venue  freq\n0              Trail   0.2\n1   Asian Restaurant   0.2\n2  Health Food Store   0.2\n3                Pub   0.2\n\n\n----The Annex, North Midtown, Yorkville\n----\n               venue  freq\n0              Trail   0.2\n1   Asian Restaurant   0.2\n2  Health Food Store   0.2\n3                Pub   0.2\n\n\n----The Beaches\n----\n               venue  freq\n0              Trail   0.2\n1   Asian Restaurant   0.2\n2  Health Food Store   0.2\n3                Pub   0.2\n\n\n----The Danforth West, Riverdale\n----\n               venue  freq\n0              Trail   0.2\n1   Asian Restaurant   0.2\n2  Health Food Store   0.2\n3                Pub   0.2\n\n\n----The Kingsway, Montgomery Road, Old Mill North\n----\n               venue  freq\n0              Trail   0.2\n1   Asian Restaurant   0.2\n2  Health Food Store   0.2\n3                Pub   0.2\n\n\n----Thorncliffe Park\n----\n               venue  freq\n0              Trail   0.2\n1   Asian Restaurant   0.2\n2  Health Food Store   0.2\n3                Pub   0.2\n\n\n----Toronto Dominion Centre, Design Exchange\n----\n               venue  freq\n0              Trail   0.2\n1   Asian Restaurant   0.2\n2  Health Food Store   0.2\n3                Pub   0.2\n\n\n----University of Toronto, Harbord\n----\n               venue  freq\n0              Trail   0.2\n1   Asian Restaurant   0.2\n2  Health Food Store   0.2\n3                Pub   0.2\n\n\n----Upper Rouge\n----\n               venue  freq\n0              Trail   0.2\n1   Asian Restaurant   0.2\n2  Health Food Store   0.2\n3                Pub   0.2\n\n\n----Victoria Village\n----\n               venue  freq\n0              Trail   0.2\n1   Asian Restaurant   0.2\n2  Health Food Store   0.2\n3                Pub   0.2\n\n\n----West Deane Park, Princess Gardens, Martin Grove, Islington, Cloverdale\n----\n               venue  freq\n0              Trail   0.2\n1   Asian Restaurant   0.2\n2  Health Food Store   0.2\n3                Pub   0.2\n\n\n----Westmount\n----\n               venue  freq\n0              Trail   0.2\n1   Asian Restaurant   0.2\n2  Health Food Store   0.2\n3                Pub   0.2\n\n\n----Weston\n----\n               venue  freq\n0              Trail   0.2\n1   Asian Restaurant   0.2\n2  Health Food Store   0.2\n3                Pub   0.2\n\n\n----Wexford, Maryvale\n----\n               venue  freq\n0              Trail   0.2\n1   Asian Restaurant   0.2\n2  Health Food Store   0.2\n3                Pub   0.2\n\n\n----Willowdale, Newtonbrook\n----\n               venue  freq\n0              Trail   0.2\n1   Asian Restaurant   0.2\n2  Health Food Store   0.2\n3                Pub   0.2\n\n\n----Willowdale, Willowdale East\n----\n               venue  freq\n0              Trail   0.2\n1   Asian Restaurant   0.2\n2  Health Food Store   0.2\n3                Pub   0.2\n\n\n----Willowdale, Willowdale West\n----\n               venue  freq\n0              Trail   0.2\n1   Asian Restaurant   0.2\n2  Health Food Store   0.2\n3                Pub   0.2\n\n\n----Woburn\n----\n               venue  freq\n0              Trail   0.2\n1   Asian Restaurant   0.2\n2  Health Food Store   0.2\n3                Pub   0.2\n\n\n----Woodbine Heights\n----\n               venue  freq\n0              Trail   0.2\n1   Asian Restaurant   0.2\n2  Health Food Store   0.2\n3                Pub   0.2\n\n\n----York Mills West\n----\n               venue  freq\n0              Trail   0.2\n1   Asian Restaurant   0.2\n2  Health Food Store   0.2\n3                Pub   0.2\n\n\n----York Mills, Silver Hills\n----\n               venue  freq\n0              Trail   0.2\n1   Asian Restaurant   0.2\n2  Health Food Store   0.2\n3                Pub   0.2\n\n\n",
                    "name": "stdout"
                }
            ]
        },
        {
            "metadata": {},
            "cell_type": "code",
            "source": "",
            "execution_count": null,
            "outputs": []
        }
    ],
    "metadata": {
        "kernelspec": {
            "name": "python3",
            "display_name": "Python 3.7",
            "language": "python"
        },
        "language_info": {
            "name": "python",
            "version": "3.7.9",
            "mimetype": "text/x-python",
            "codemirror_mode": {
                "name": "ipython",
                "version": 3
            },
            "pygments_lexer": "ipython3",
            "nbconvert_exporter": "python",
            "file_extension": ".py"
        }
    },
    "nbformat": 4,
    "nbformat_minor": 1
}