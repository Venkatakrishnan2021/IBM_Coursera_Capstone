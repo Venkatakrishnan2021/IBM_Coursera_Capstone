{
    "cells": [
        {
            "metadata": {
                "collapsed": true
            },
            "cell_type": "markdown",
            "source": "### Coursera Capstone - Week#2\n\n# <SPAN STYLE=\"text-decoration:underline\">  <span style=\"color:blue\">  1.0\tIntroduction Section </span> \n        1.\tIntroduction Section \n        2.\tProblem Which Tried to Solve:  \n        3.\tThe Location \n        4.\tFoursquare API \n        5.\tWork Flow \n        6.\tClustering Approach \n        7.\tLibraries Which are Used to Develope the Project \n# <SPAN STYLE=\"text-decoration:underline\">  <span style=\"color:blue\">  2.0 Data Section </span>    \n        1.\tDescription of the Data : \n        2.\tHow the data will be used to solve the problem:  "
        },
        {
            "metadata": {},
            "cell_type": "markdown",
            "source": "# <SPAN STYLE=\"text-decoration:underline\">  <span style=\"color:blue\">  1.0\tIntroduction Section </span> \n\n### Discussion of the business problem and the audience who would be interested in this project.\n### 1.\tIntroduction \nThe purpose of this Project is to help people in exploring better facilities around their neighborhood. \n\nThe main purpose of this project to guide tourist who visting Chennai to find the below spots.\n####    * Stadium\n####    * BookStore\n####    * Train Station\n    "
        },
        {
            "metadata": {},
            "cell_type": "markdown",
            "source": "### 2.\tProblem Which Tried to Solve : \nThe major purpose of this project, is to suggest a better neighborhood in a new city for the person who are travelling / shiffting there. "
        },
        {
            "metadata": {},
            "cell_type": "markdown",
            "source": "### 3.\tThe Location: \nChennai is a popular destination for domestic job seekers. It is one of the most diverse and multicultural, being home to various religious groups and places of worship.\n"
        },
        {
            "metadata": {},
            "cell_type": "markdown",
            "source": "### 4.\tFoursquare API: \nThis project would use Four-square API as its prime data gathering source as \n\nit has a database of millions of places, especially their places API which provides the ability to perform location search, \n\nlocation sharing and details about a business."
        },
        {
            "metadata": {},
            "cell_type": "markdown",
            "source": "### 5.\tWork Flow: \nUsing credentials of Foursquare API features of near-by places of the neighborhoods would be mined. \n\nDue to http request limitations the number of places per neighborhood parameter would reasonably be \n\nset to 100 and the radius parameter would be set to 500."
        },
        {
            "metadata": {},
            "cell_type": "markdown",
            "source": "### 6.\tClustering Approach: \nTo compare the similarities of two cities, we decided to explore neighborhoods, \n\nsegment them, and group them into clusters to find similar neighborhoods in a big \n\ncity like Mumabi and Chennai. To be able to do that, we need to cluster data \n\nwhich is a form of unsupervised machine learning: k-means clustering algorithm"
        },
        {
            "metadata": {},
            "cell_type": "markdown",
            "source": "### 7.\tLibraries Which are Used to Develope the Project: \nPandas: For creating and manipulating dataframes.\n\nFolium: Python visualization library would be used to visualize the neighborhoods cluster distribution of using interactive leaflet map.\n\nScikit Learn: For importing k-means clustering.\n\nJSON: Library to handle JSON files.\n\nXML: To separate data from presentation and XML stores data in plain text format.\n\nGeocoder: To retrieve Location Data.\n\nBeautiful Soup and Requests: To scrap"
        },
        {
            "metadata": {},
            "cell_type": "markdown",
            "source": "# <SPAN STYLE=\"text-decoration:underline\">  <span style=\"color:blue\">  2.0 Data Section </span> \n\n### Description of the data and its sources that will be used to solve the problem"
        },
        {
            "metadata": {},
            "cell_type": "markdown",
            "source": "### 1. Description of the Data:\n\nThe following data is required to  answer the issues of the problem:\n\n- List of Boroughs and neighborhoods of Chenna with their geodata (latitud and longitud) \n- List of Restraunts in Chennai with their address location \n- Preferably, Restraunts for Vegeterians with additional information, such as price, address, area\n- Venues for each Manhattan neighborhood ( than can be clustered)\n\n\n\n### 2. How the data will be used to solve the problem\n\nThe data will be used as follows:\n- Use Foursquare and geopy data to map top 10 venues for all Chenna neighborhoods and clustered in groups ( as per Course LAB)\n- Use foursquare and geopy data to map the location of Restraunts , separately and on top of the above clustered map in order to be able to identify the venues and ammenities near each Restraunts \n\n\n\nThe procesing of these DATA will allow to answer the key questions to make a decision:\n\n- what is the area of Chennai with best Restaurants? \n\n- How venues distribute among Chennai neighborhoods and around Hotels and Restraunts?\n\n- Any other interesting statistical data findings of the Restaurants and overall data.\n"
        },
        {
            "metadata": {},
            "cell_type": "code",
            "source": "",
            "execution_count": null,
            "outputs": []
        }
    ],
    "metadata": {
        "kernelspec": {
            "name": "python3",
            "display_name": "Python 3.7",
            "language": "python"
        },
        "language_info": {
            "name": "python",
            "version": "3.7.9",
            "mimetype": "text/x-python",
            "codemirror_mode": {
                "name": "ipython",
                "version": 3
            },
            "pygments_lexer": "ipython3",
            "nbconvert_exporter": "python",
            "file_extension": ".py"
        }
    },
    "nbformat": 4,
    "nbformat_minor": 1
}